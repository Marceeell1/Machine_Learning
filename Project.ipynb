{
 "cells": [
  {
   "cell_type": "markdown",
   "id": "e7403b86",
   "metadata": {},
   "source": [
    "Project"
   ]
  },
  {
   "cell_type": "code",
   "execution_count": 34,
   "id": "b5811766",
   "metadata": {},
   "outputs": [],
   "source": [
    "# Import required libraries\n",
    "import pandas as pd\n",
    "from ucimlrepo import fetch_ucirepo\n",
    "from sklearn.model_selection import train_test_split\n",
    "from sklearn.preprocessing import LabelEncoder, StandardScaler\n",
    "from sklearn.linear_model import LogisticRegression\n",
    "from sklearn.metrics import classification_report, accuracy_score"
   ]
  },
  {
   "cell_type": "code",
   "execution_count": 35,
   "id": "28197f3f",
   "metadata": {},
   "outputs": [],
   "source": [
    "# Load dataset (German Credit Data from UCI)\n",
    "statlog_data = fetch_ucirepo(id=144)\n",
    "X = statlog_data.data.features\n",
    "y = statlog_data.data.targets"
   ]
  },
  {
   "cell_type": "code",
   "execution_count": 36,
   "id": "de0d231b",
   "metadata": {},
   "outputs": [],
   "source": [
    "# Rename columns based on UCI documentation\n",
    "X.columns = [\n",
    "    \"Status_checking_account\", \"Duration_month\", \"Credit_history\", \"Purpose\",\n",
    "    \"Credit_amount\", \"Savings_account\", \"Employment_since\", \"Installment_rate\",\n",
    "    \"Personal_status_sex\", \"Other_debtors_guarantors\", \"Residence_since\",\n",
    "    \"Property\", \"Age_years\", \"Other_installment_plans\", \"Housing\",\n",
    "    \"Existing_credits\", \"Job\", \"Num_liable\", \"Telephone\", \"Foreign_worker\"\n",
    "]\n",
    "\n",
    "# Convert target: 1 = good credit, 2 = bad credit\n",
    "y = y.replace({1: \"Good\", 2: \"Bad\"})\n",
    "if isinstance(y, pd.DataFrame):\n",
    "    y = y.rename(columns={y.columns[0]: \"Credit_risk\"})\n",
    "else:\n",
    "    y = y.rename(\"Credit_risk\")\n",
    "\n",
    "# Combine features and target\n",
    "df = pd.concat([X, y], axis=1)"
   ]
  },
  {
   "cell_type": "code",
   "execution_count": 37,
   "id": "f72f5a08",
   "metadata": {},
   "outputs": [
    {
     "name": "stdout",
     "output_type": "stream",
     "text": [
      "Dataset overview\n",
      "  Status_checking_account  Duration_month Credit_history Purpose  \\\n",
      "0                     A11               6            A34     A43   \n",
      "1                     A12              48            A32     A43   \n",
      "2                     A14              12            A34     A46   \n",
      "3                     A11              42            A32     A42   \n",
      "4                     A11              24            A33     A40   \n",
      "\n",
      "   Credit_amount Savings_account Employment_since  Installment_rate  \\\n",
      "0           1169             A65              A75                 4   \n",
      "1           5951             A61              A73                 2   \n",
      "2           2096             A61              A74                 2   \n",
      "3           7882             A61              A74                 2   \n",
      "4           4870             A61              A73                 3   \n",
      "\n",
      "  Personal_status_sex Other_debtors_guarantors  ...  Property Age_years  \\\n",
      "0                 A93                     A101  ...      A121        67   \n",
      "1                 A92                     A101  ...      A121        22   \n",
      "2                 A93                     A101  ...      A121        49   \n",
      "3                 A93                     A103  ...      A122        45   \n",
      "4                 A93                     A101  ...      A124        53   \n",
      "\n",
      "   Other_installment_plans Housing Existing_credits   Job Num_liable  \\\n",
      "0                     A143    A152                2  A173          1   \n",
      "1                     A143    A152                1  A173          1   \n",
      "2                     A143    A152                1  A172          2   \n",
      "3                     A143    A153                1  A173          2   \n",
      "4                     A143    A153                2  A173          2   \n",
      "\n",
      "   Telephone Foreign_worker Credit_risk  \n",
      "0       A192           A201        Good  \n",
      "1       A191           A201         Bad  \n",
      "2       A191           A201        Good  \n",
      "3       A191           A201        Good  \n",
      "4       A191           A201         Bad  \n",
      "\n",
      "[5 rows x 21 columns] \n",
      "\n",
      "Shape: (1000, 21) \n",
      "\n",
      "Data types:\n",
      " Status_checking_account     object\n",
      "Duration_month               int64\n",
      "Credit_history              object\n",
      "Purpose                     object\n",
      "Credit_amount                int64\n",
      "Savings_account             object\n",
      "Employment_since            object\n",
      "Installment_rate             int64\n",
      "Personal_status_sex         object\n",
      "Other_debtors_guarantors    object\n",
      "Residence_since              int64\n",
      "Property                    object\n",
      "Age_years                    int64\n",
      "Other_installment_plans     object\n",
      "Housing                     object\n",
      "Existing_credits             int64\n",
      "Job                         object\n",
      "Num_liable                   int64\n",
      "Telephone                   object\n",
      "Foreign_worker              object\n",
      "Credit_risk                 object\n",
      "dtype: object \n",
      "\n",
      "Target distribution:\n",
      " Credit_risk\n",
      "Good    700\n",
      "Bad     300\n",
      "Name: count, dtype: int64 \n",
      "\n",
      "Numeric summary:\n",
      "        Duration_month  Credit_amount  Installment_rate  Residence_since  \\\n",
      "count     1000.000000    1000.000000       1000.000000      1000.000000   \n",
      "mean        20.903000    3271.258000          2.973000         2.845000   \n",
      "std         12.058814    2822.736876          1.118715         1.103718   \n",
      "min          4.000000     250.000000          1.000000         1.000000   \n",
      "25%         12.000000    1365.500000          2.000000         2.000000   \n",
      "50%         18.000000    2319.500000          3.000000         3.000000   \n",
      "75%         24.000000    3972.250000          4.000000         4.000000   \n",
      "max         72.000000   18424.000000          4.000000         4.000000   \n",
      "\n",
      "         Age_years  Existing_credits   Num_liable  \n",
      "count  1000.000000       1000.000000  1000.000000  \n",
      "mean     35.546000          1.407000     1.155000  \n",
      "std      11.375469          0.577654     0.362086  \n",
      "min      19.000000          1.000000     1.000000  \n",
      "25%      27.000000          1.000000     1.000000  \n",
      "50%      33.000000          1.000000     1.000000  \n",
      "75%      42.000000          2.000000     1.000000  \n",
      "max      75.000000          4.000000     2.000000   \n",
      "\n"
     ]
    }
   ],
   "source": [
    "# Descriptive analysis\n",
    "print(\"Dataset overview\")\n",
    "print(df.head(), \"\\n\")\n",
    "print(\"Shape:\", df.shape, \"\\n\")\n",
    "print(\"Data types:\\n\", df.dtypes, \"\\n\")\n",
    "print(\"Target distribution:\\n\", df[\"Credit_risk\"].value_counts(), \"\\n\")\n",
    "print(\"Numeric summary:\\n\", df.describe(), \"\\n\")"
   ]
  },
  {
   "cell_type": "code",
   "execution_count": 38,
   "id": "f8d02ff6",
   "metadata": {},
   "outputs": [],
   "source": [
    "# Preprocessing\n",
    "# Separate features and target\n",
    "X = df.drop(\"Credit_risk\", axis=1)\n",
    "y = df[\"Credit_risk\"]\n",
    "\n",
    "# Encode categorical columns using LabelEncoder\n",
    "label_encoder = LabelEncoder()\n",
    "for col in X.select_dtypes(include=[\"object\"]).columns:\n",
    "    X[col] = label_encoder.fit_transform(X[col])\n",
    "\n",
    "# Encode target labels (Good = 1, Bad = 0)\n",
    "y = y.map({\"Good\": 1, \"Bad\": 0})\n",
    "\n",
    "# Standardize numeric features\n",
    "scaler = StandardScaler()\n",
    "X_scaled = pd.DataFrame(scaler.fit_transform(X), columns=X.columns)\n",
    "\n",
    "# Split dataset into train/test\n",
    "X_train, X_test, y_train, y_test = train_test_split(X_scaled, y, test_size=0.2, random_state=42)"
   ]
  },
  {
   "cell_type": "code",
   "execution_count": 39,
   "id": "5ed4ba54",
   "metadata": {},
   "outputs": [],
   "source": [
    "# Problem formalization\n",
    "# Binary classification problem:\n",
    "# Predict whether a person has good or bad credit risk."
   ]
  },
  {
   "cell_type": "code",
   "execution_count": 40,
   "id": "9dd56e98",
   "metadata": {},
   "outputs": [],
   "source": [
    "# 6. Baseline model: Logistic Regression\n",
    "model = LogisticRegression(max_iter=1000, random_state=42)\n",
    "model.fit(X_train, y_train)\n",
    "y_pred = model.predict(X_test)"
   ]
  },
  {
   "cell_type": "code",
   "execution_count": 41,
   "id": "0be2afc7",
   "metadata": {},
   "outputs": [
    {
     "name": "stdout",
     "output_type": "stream",
     "text": [
      "Baseline Model Evaluation\n",
      "Accuracy: 0.78\n",
      "\n",
      "Classification report:\n",
      "               precision    recall  f1-score   support\n",
      "\n",
      "           0       0.67      0.49      0.57        59\n",
      "           1       0.81      0.90      0.85       141\n",
      "\n",
      "    accuracy                           0.78       200\n",
      "   macro avg       0.74      0.70      0.71       200\n",
      "weighted avg       0.77      0.78      0.77       200\n",
      "\n"
     ]
    }
   ],
   "source": [
    "# Evaluation\n",
    "print(\"Baseline Model Evaluation\")\n",
    "print(\"Accuracy:\", accuracy_score(y_test, y_pred))\n",
    "print(\"\\nClassification report:\\n\", classification_report(y_test, y_pred))"
   ]
  },
  {
   "cell_type": "code",
   "execution_count": 42,
   "id": "0a2abc37",
   "metadata": {},
   "outputs": [
    {
     "name": "stdout",
     "output_type": "stream",
     "text": [
      "Preprocessed dataset saved as 'german_credit_preprocessed.csv'\n"
     ]
    }
   ],
   "source": [
    "# Save preprocessed dataset\n",
    "df.to_csv(\"german_credit_preprocessed.csv\", index=False, sep=';', encoding='utf-8-sig')\n",
    "print(\"Preprocessed dataset saved as 'german_credit_preprocessed.csv'\")"
   ]
  }
 ],
 "metadata": {
  "kernelspec": {
   "display_name": "base",
   "language": "python",
   "name": "python3"
  },
  "language_info": {
   "codemirror_mode": {
    "name": "ipython",
    "version": 3
   },
   "file_extension": ".py",
   "mimetype": "text/x-python",
   "name": "python",
   "nbconvert_exporter": "python",
   "pygments_lexer": "ipython3",
   "version": "3.12.7"
  }
 },
 "nbformat": 4,
 "nbformat_minor": 5
}
